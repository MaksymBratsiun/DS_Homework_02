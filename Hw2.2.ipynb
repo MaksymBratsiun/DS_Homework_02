{
 "cells": [
  {
   "cell_type": "code",
   "execution_count": 1,
   "id": "4dcb6dcf",
   "metadata": {},
   "outputs": [],
   "source": [
    "import pandas as pd\n",
    "import numpy as np\n",
    "import matplotlib.pyplot as plt\n",
    "import seaborn as sns\n",
    "%matplotlib inline"
   ]
  },
  {
   "cell_type": "code",
   "execution_count": 2,
   "id": "e78c1da6",
   "metadata": {},
   "outputs": [],
   "source": [
    "df = pd.read_csv(\"2017_jun_final.csv\")"
   ]
  },
  {
   "cell_type": "code",
   "execution_count": 3,
   "id": "3334091a",
   "metadata": {
    "scrolled": true
   },
   "outputs": [
    {
     "data": {
      "text/html": [
       "<div>\n",
       "<style scoped>\n",
       "    .dataframe tbody tr th:only-of-type {\n",
       "        vertical-align: middle;\n",
       "    }\n",
       "\n",
       "    .dataframe tbody tr th {\n",
       "        vertical-align: top;\n",
       "    }\n",
       "\n",
       "    .dataframe thead th {\n",
       "        text-align: right;\n",
       "    }\n",
       "</style>\n",
       "<table border=\"1\" class=\"dataframe\">\n",
       "  <thead>\n",
       "    <tr style=\"text-align: right;\">\n",
       "      <th></th>\n",
       "      <th>N</th>\n",
       "      <th>Должность</th>\n",
       "      <th>Язык.программирования</th>\n",
       "      <th>Специализация</th>\n",
       "      <th>Общий.опыт.работы</th>\n",
       "      <th>Опыт.работы.на.текущем.месте</th>\n",
       "      <th>Зарплата.в.месяц</th>\n",
       "      <th>Изменение.зарплаты.за.12.месяцев</th>\n",
       "      <th>Город</th>\n",
       "      <th>Размер.компании</th>\n",
       "      <th>...</th>\n",
       "      <th>Еще.студент</th>\n",
       "      <th>Уровень.английского</th>\n",
       "      <th>Предметная.область</th>\n",
       "      <th>Дата.заполнения</th>\n",
       "      <th>User.Agent</th>\n",
       "      <th>exp</th>\n",
       "      <th>current_job_exp</th>\n",
       "      <th>salary</th>\n",
       "      <th>Валюта</th>\n",
       "      <th>cls</th>\n",
       "    </tr>\n",
       "  </thead>\n",
       "  <tbody>\n",
       "    <tr>\n",
       "      <th>0</th>\n",
       "      <td>1</td>\n",
       "      <td>Junior QA engineer</td>\n",
       "      <td>NaN</td>\n",
       "      <td>Manual QA</td>\n",
       "      <td>0.5</td>\n",
       "      <td>0.5</td>\n",
       "      <td>400</td>\n",
       "      <td>0</td>\n",
       "      <td>Харьков</td>\n",
       "      <td>до 10 человек</td>\n",
       "      <td>...</td>\n",
       "      <td>True</td>\n",
       "      <td>ниже среднего</td>\n",
       "      <td>iOS,eCommerce</td>\n",
       "      <td>12/06/2017 12:38:08</td>\n",
       "      <td>Mozilla/5.0 (Windows NT 10.0; Win64; x64) Appl...</td>\n",
       "      <td>0.5</td>\n",
       "      <td>0.5</td>\n",
       "      <td>400</td>\n",
       "      <td>NaN</td>\n",
       "      <td>QA</td>\n",
       "    </tr>\n",
       "    <tr>\n",
       "      <th>1</th>\n",
       "      <td>2</td>\n",
       "      <td>Junior QA engineer</td>\n",
       "      <td>NaN</td>\n",
       "      <td>Manual QA</td>\n",
       "      <td>меньше 3 месяцев</td>\n",
       "      <td>меньше 3 месяцев</td>\n",
       "      <td>430</td>\n",
       "      <td>130</td>\n",
       "      <td>Харьков</td>\n",
       "      <td>свыше 1000 человек</td>\n",
       "      <td>...</td>\n",
       "      <td>True</td>\n",
       "      <td>выше среднего</td>\n",
       "      <td>Веб-разработка</td>\n",
       "      <td>12/06/2017 12:42:51</td>\n",
       "      <td>Mozilla/5.0 (iPad; CPU OS 10_2_1 like Mac OS X...</td>\n",
       "      <td>0.0</td>\n",
       "      <td>0.0</td>\n",
       "      <td>430</td>\n",
       "      <td>NaN</td>\n",
       "      <td>QA</td>\n",
       "    </tr>\n",
       "    <tr>\n",
       "      <th>2</th>\n",
       "      <td>3</td>\n",
       "      <td>Software Engineer</td>\n",
       "      <td>C#/.NET</td>\n",
       "      <td>NaN</td>\n",
       "      <td>4</td>\n",
       "      <td>1</td>\n",
       "      <td>2500</td>\n",
       "      <td>800</td>\n",
       "      <td>Киев</td>\n",
       "      <td>до 1000 человек</td>\n",
       "      <td>...</td>\n",
       "      <td>False</td>\n",
       "      <td>средний</td>\n",
       "      <td>Веб-разработка,Корпоративные системы</td>\n",
       "      <td>12/06/2017 13:02:47</td>\n",
       "      <td>Mozilla/5.0 (Windows NT 10.0; Win64; x64) Appl...</td>\n",
       "      <td>4.0</td>\n",
       "      <td>1.0</td>\n",
       "      <td>2500</td>\n",
       "      <td>NaN</td>\n",
       "      <td>DEV</td>\n",
       "    </tr>\n",
       "    <tr>\n",
       "      <th>3</th>\n",
       "      <td>4</td>\n",
       "      <td>Software Engineer</td>\n",
       "      <td>JavaScript</td>\n",
       "      <td>NaN</td>\n",
       "      <td>5</td>\n",
       "      <td>4</td>\n",
       "      <td>2000</td>\n",
       "      <td>400</td>\n",
       "      <td>Одесса</td>\n",
       "      <td>до 200 человек</td>\n",
       "      <td>...</td>\n",
       "      <td>False</td>\n",
       "      <td>ниже среднего</td>\n",
       "      <td>Desktop Applications,Веб-разработка</td>\n",
       "      <td>12/06/2017 13:03:01</td>\n",
       "      <td>Mozilla/5.0 (Windows NT 6.1; Win64; x64) Apple...</td>\n",
       "      <td>5.0</td>\n",
       "      <td>4.0</td>\n",
       "      <td>2000</td>\n",
       "      <td>NaN</td>\n",
       "      <td>DEV</td>\n",
       "    </tr>\n",
       "    <tr>\n",
       "      <th>4</th>\n",
       "      <td>5</td>\n",
       "      <td>Senior Software Engineer</td>\n",
       "      <td>JavaScript</td>\n",
       "      <td>NaN</td>\n",
       "      <td>10 и более лет</td>\n",
       "      <td>0.5</td>\n",
       "      <td>4500</td>\n",
       "      <td>500</td>\n",
       "      <td>Другой</td>\n",
       "      <td>до 10 человек</td>\n",
       "      <td>...</td>\n",
       "      <td>False</td>\n",
       "      <td>средний</td>\n",
       "      <td>Desktop Applications,Веб-разработка</td>\n",
       "      <td>12/06/2017 13:03:47</td>\n",
       "      <td>Mozilla/5.0 (iPhone; CPU iPhone OS 10_3_2 like...</td>\n",
       "      <td>10.0</td>\n",
       "      <td>0.5</td>\n",
       "      <td>4500</td>\n",
       "      <td>NaN</td>\n",
       "      <td>DEV</td>\n",
       "    </tr>\n",
       "  </tbody>\n",
       "</table>\n",
       "<p>5 rows × 25 columns</p>\n",
       "</div>"
      ],
      "text/plain": [
       "   N                 Должность Язык.программирования Специализация  \\\n",
       "0  1        Junior QA engineer                   NaN     Manual QA   \n",
       "1  2        Junior QA engineer                   NaN     Manual QA   \n",
       "2  3         Software Engineer               C#/.NET           NaN   \n",
       "3  4         Software Engineer            JavaScript           NaN   \n",
       "4  5  Senior Software Engineer            JavaScript           NaN   \n",
       "\n",
       "  Общий.опыт.работы Опыт.работы.на.текущем.месте  Зарплата.в.месяц  \\\n",
       "0               0.5                          0.5               400   \n",
       "1  меньше 3 месяцев             меньше 3 месяцев               430   \n",
       "2                 4                            1              2500   \n",
       "3                 5                            4              2000   \n",
       "4    10 и более лет                          0.5              4500   \n",
       "\n",
       "   Изменение.зарплаты.за.12.месяцев    Город     Размер.компании  ...  \\\n",
       "0                                 0  Харьков       до 10 человек  ...   \n",
       "1                               130  Харьков  свыше 1000 человек  ...   \n",
       "2                               800     Киев     до 1000 человек  ...   \n",
       "3                               400   Одесса      до 200 человек  ...   \n",
       "4                               500   Другой       до 10 человек  ...   \n",
       "\n",
       "  Еще.студент Уровень.английского                    Предметная.область  \\\n",
       "0        True       ниже среднего                         iOS,eCommerce   \n",
       "1        True       выше среднего                        Веб-разработка   \n",
       "2       False             средний  Веб-разработка,Корпоративные системы   \n",
       "3       False       ниже среднего   Desktop Applications,Веб-разработка   \n",
       "4       False             средний   Desktop Applications,Веб-разработка   \n",
       "\n",
       "       Дата.заполнения                                         User.Agent  \\\n",
       "0  12/06/2017 12:38:08  Mozilla/5.0 (Windows NT 10.0; Win64; x64) Appl...   \n",
       "1  12/06/2017 12:42:51  Mozilla/5.0 (iPad; CPU OS 10_2_1 like Mac OS X...   \n",
       "2  12/06/2017 13:02:47  Mozilla/5.0 (Windows NT 10.0; Win64; x64) Appl...   \n",
       "3  12/06/2017 13:03:01  Mozilla/5.0 (Windows NT 6.1; Win64; x64) Apple...   \n",
       "4  12/06/2017 13:03:47  Mozilla/5.0 (iPhone; CPU iPhone OS 10_3_2 like...   \n",
       "\n",
       "    exp current_job_exp salary Валюта  cls  \n",
       "0   0.5             0.5    400    NaN   QA  \n",
       "1   0.0             0.0    430    NaN   QA  \n",
       "2   4.0             1.0   2500    NaN  DEV  \n",
       "3   5.0             4.0   2000    NaN  DEV  \n",
       "4  10.0             0.5   4500    NaN  DEV  \n",
       "\n",
       "[5 rows x 25 columns]"
      ]
     },
     "execution_count": 3,
     "metadata": {},
     "output_type": "execute_result"
    }
   ],
   "source": [
    "df.head()"
   ]
  },
  {
   "cell_type": "code",
   "execution_count": 4,
   "id": "2579d016",
   "metadata": {},
   "outputs": [
    {
     "data": {
      "text/plain": [
       "(8704, 25)"
      ]
     },
     "execution_count": 4,
     "metadata": {},
     "output_type": "execute_result"
    }
   ],
   "source": [
    "df.shape"
   ]
  },
  {
   "cell_type": "code",
   "execution_count": 8,
   "id": "7362d822",
   "metadata": {
    "scrolled": true
   },
   "outputs": [
    {
     "data": {
      "text/plain": [
       "N                                     int64\n",
       "Должность                            object\n",
       "Язык.программирования                object\n",
       "Специализация                        object\n",
       "Общий.опыт.работы                    object\n",
       "Опыт.работы.на.текущем.месте         object\n",
       "Зарплата.в.месяц                      int64\n",
       "Изменение.зарплаты.за.12.месяцев      int64\n",
       "Город                                object\n",
       "Размер.компании                      object\n",
       "Тип.компании                         object\n",
       "Пол                                  object\n",
       "Возраст                               int64\n",
       "Образование                          object\n",
       "Университет                          object\n",
       "Еще.студент                            bool\n",
       "Уровень.английского                  object\n",
       "Предметная.область                   object\n",
       "Дата.заполнения                      object\n",
       "User.Agent                           object\n",
       "exp                                 float64\n",
       "current_job_exp                     float64\n",
       "salary                                int64\n",
       "Валюта                               object\n",
       "cls                                  object\n",
       "dtype: object"
      ]
     },
     "execution_count": 8,
     "metadata": {},
     "output_type": "execute_result"
    }
   ],
   "source": [
    "df.dtypes"
   ]
  },
  {
   "cell_type": "code",
   "execution_count": 108,
   "id": "6be3cf5b",
   "metadata": {
    "scrolled": false
   },
   "outputs": [
    {
     "data": {
      "text/plain": [
       "N                                      0\n",
       "Должность                              0\n",
       "Язык.программирования               3850\n",
       "Специализация                       7219\n",
       "Общий.опыт.работы                      0\n",
       "Опыт.работы.на.текущем.месте           0\n",
       "Зарплата.в.месяц                       0\n",
       "Изменение.зарплаты.за.12.месяцев       0\n",
       "Город                                  0\n",
       "Размер.компании                        0\n",
       "Тип.компании                           0\n",
       "Пол                                    0\n",
       "Возраст                                0\n",
       "Образование                            0\n",
       "Университет                          358\n",
       "Еще.студент                            0\n",
       "Уровень.английского                    0\n",
       "Предметная.область                   223\n",
       "Дата.заполнения                        0\n",
       "User.Agent                             0\n",
       "exp                                    0\n",
       "current_job_exp                        0\n",
       "salary                                 0\n",
       "Валюта                              8694\n",
       "cls                                 1574\n",
       "dtype: int64"
      ]
     },
     "execution_count": 108,
     "metadata": {},
     "output_type": "execute_result"
    }
   ],
   "source": [
    "df.isnull().sum()"
   ]
  },
  {
   "cell_type": "code",
   "execution_count": 4,
   "id": "4090f05d",
   "metadata": {
    "scrolled": true
   },
   "outputs": [],
   "source": [
    "tmp = df[df.columns.difference(['Язык.программирования'])].isna().any()\n",
    "clear_df = df.drop(tmp.index[tmp], axis=1)"
   ]
  },
  {
   "cell_type": "code",
   "execution_count": 109,
   "id": "2bc965e9",
   "metadata": {
    "collapsed": true
   },
   "outputs": [
    {
     "data": {
      "text/plain": [
       "N                                      0\n",
       "Должность                              0\n",
       "Язык.программирования               3850\n",
       "Общий.опыт.работы                      0\n",
       "Опыт.работы.на.текущем.месте           0\n",
       "Зарплата.в.месяц                       0\n",
       "Изменение.зарплаты.за.12.месяцев       0\n",
       "Город                                  0\n",
       "Размер.компании                        0\n",
       "Тип.компании                           0\n",
       "Пол                                    0\n",
       "Возраст                                0\n",
       "Образование                            0\n",
       "Еще.студент                            0\n",
       "Уровень.английского                    0\n",
       "Дата.заполнения                        0\n",
       "User.Agent                             0\n",
       "exp                                    0\n",
       "current_job_exp                        0\n",
       "salary                                 0\n",
       "dtype: int64"
      ]
     },
     "execution_count": 109,
     "metadata": {},
     "output_type": "execute_result"
    }
   ],
   "source": [
    "clear_df.isnull().sum()"
   ]
  },
  {
   "cell_type": "code",
   "execution_count": 110,
   "id": "491dda75",
   "metadata": {
    "scrolled": true
   },
   "outputs": [
    {
     "data": {
      "text/plain": [
       "N                                   0\n",
       "Должность                           0\n",
       "Язык.программирования               0\n",
       "Общий.опыт.работы                   0\n",
       "Опыт.работы.на.текущем.месте        0\n",
       "Зарплата.в.месяц                    0\n",
       "Изменение.зарплаты.за.12.месяцев    0\n",
       "Город                               0\n",
       "Размер.компании                     0\n",
       "Тип.компании                        0\n",
       "Пол                                 0\n",
       "Возраст                             0\n",
       "Образование                         0\n",
       "Еще.студент                         0\n",
       "Уровень.английского                 0\n",
       "Дата.заполнения                     0\n",
       "User.Agent                          0\n",
       "exp                                 0\n",
       "current_job_exp                     0\n",
       "salary                              0\n",
       "dtype: int64"
      ]
     },
     "execution_count": 110,
     "metadata": {},
     "output_type": "execute_result"
    }
   ],
   "source": [
    "clear_df.dropna().isnull().sum()"
   ]
  },
  {
   "cell_type": "code",
   "execution_count": 5,
   "id": "7508060e",
   "metadata": {
    "scrolled": false
   },
   "outputs": [
    {
     "data": {
      "text/html": [
       "<div>\n",
       "<style scoped>\n",
       "    .dataframe tbody tr th:only-of-type {\n",
       "        vertical-align: middle;\n",
       "    }\n",
       "\n",
       "    .dataframe tbody tr th {\n",
       "        vertical-align: top;\n",
       "    }\n",
       "\n",
       "    .dataframe thead th {\n",
       "        text-align: right;\n",
       "    }\n",
       "</style>\n",
       "<table border=\"1\" class=\"dataframe\">\n",
       "  <thead>\n",
       "    <tr style=\"text-align: right;\">\n",
       "      <th></th>\n",
       "      <th>N</th>\n",
       "      <th>Должность</th>\n",
       "      <th>Язык.программирования</th>\n",
       "      <th>Общий.опыт.работы</th>\n",
       "      <th>Опыт.работы.на.текущем.месте</th>\n",
       "      <th>Зарплата.в.месяц</th>\n",
       "      <th>Изменение.зарплаты.за.12.месяцев</th>\n",
       "      <th>Город</th>\n",
       "      <th>Размер.компании</th>\n",
       "      <th>Тип.компании</th>\n",
       "      <th>Пол</th>\n",
       "      <th>Возраст</th>\n",
       "      <th>Образование</th>\n",
       "      <th>Еще.студент</th>\n",
       "      <th>Уровень.английского</th>\n",
       "      <th>Дата.заполнения</th>\n",
       "      <th>User.Agent</th>\n",
       "      <th>exp</th>\n",
       "      <th>current_job_exp</th>\n",
       "      <th>salary</th>\n",
       "    </tr>\n",
       "  </thead>\n",
       "  <tbody>\n",
       "    <tr>\n",
       "      <th>12</th>\n",
       "      <td>13</td>\n",
       "      <td>Software Engineer</td>\n",
       "      <td>Python</td>\n",
       "      <td>1</td>\n",
       "      <td>меньше 3 месяцев</td>\n",
       "      <td>800</td>\n",
       "      <td>200</td>\n",
       "      <td>Киев</td>\n",
       "      <td>до 50 человек</td>\n",
       "      <td>Аутсорсинговая</td>\n",
       "      <td>мужской</td>\n",
       "      <td>26</td>\n",
       "      <td>Высшее</td>\n",
       "      <td>False</td>\n",
       "      <td>ниже среднего</td>\n",
       "      <td>12/06/2017 13:05:54</td>\n",
       "      <td>Mozilla/5.0 (Windows NT 6.1; Win64; x64) Apple...</td>\n",
       "      <td>1.0</td>\n",
       "      <td>0.0</td>\n",
       "      <td>800</td>\n",
       "    </tr>\n",
       "    <tr>\n",
       "      <th>68</th>\n",
       "      <td>69</td>\n",
       "      <td>Software Engineer</td>\n",
       "      <td>Python</td>\n",
       "      <td>1.5</td>\n",
       "      <td>0.5</td>\n",
       "      <td>900</td>\n",
       "      <td>900</td>\n",
       "      <td>Киев</td>\n",
       "      <td>до 10 человек</td>\n",
       "      <td>Стартап</td>\n",
       "      <td>мужской</td>\n",
       "      <td>21</td>\n",
       "      <td>Незаконченное высшее</td>\n",
       "      <td>True</td>\n",
       "      <td>выше среднего</td>\n",
       "      <td>12/06/2017 13:11:17</td>\n",
       "      <td>Mozilla/5.0 (Windows NT 10.0; Win64; x64) Appl...</td>\n",
       "      <td>1.5</td>\n",
       "      <td>0.5</td>\n",
       "      <td>900</td>\n",
       "    </tr>\n",
       "    <tr>\n",
       "      <th>87</th>\n",
       "      <td>88</td>\n",
       "      <td>Junior Software Engineer</td>\n",
       "      <td>Python</td>\n",
       "      <td>0.5</td>\n",
       "      <td>0.5</td>\n",
       "      <td>600</td>\n",
       "      <td>0</td>\n",
       "      <td>Киев</td>\n",
       "      <td>до 10 человек</td>\n",
       "      <td>Аутсорсинговая</td>\n",
       "      <td>мужской</td>\n",
       "      <td>19</td>\n",
       "      <td>Незаконченное высшее</td>\n",
       "      <td>True</td>\n",
       "      <td>выше среднего</td>\n",
       "      <td>12/06/2017 13:12:25</td>\n",
       "      <td>Mozilla/5.0 (X11; Linux x86_64) AppleWebKit/53...</td>\n",
       "      <td>0.5</td>\n",
       "      <td>0.5</td>\n",
       "      <td>600</td>\n",
       "    </tr>\n",
       "    <tr>\n",
       "      <th>114</th>\n",
       "      <td>115</td>\n",
       "      <td>Junior Software Engineer</td>\n",
       "      <td>Python</td>\n",
       "      <td>1.5</td>\n",
       "      <td>0.5</td>\n",
       "      <td>685</td>\n",
       "      <td>250</td>\n",
       "      <td>Киев</td>\n",
       "      <td>до 1000 человек</td>\n",
       "      <td>Аутсорсинговая</td>\n",
       "      <td>мужской</td>\n",
       "      <td>21</td>\n",
       "      <td>Незаконченное высшее</td>\n",
       "      <td>False</td>\n",
       "      <td>средний</td>\n",
       "      <td>12/06/2017 13:14:52</td>\n",
       "      <td>Mozilla/5.0 (X11; Linux x86_64) AppleWebKit/53...</td>\n",
       "      <td>1.5</td>\n",
       "      <td>0.5</td>\n",
       "      <td>685</td>\n",
       "    </tr>\n",
       "    <tr>\n",
       "      <th>143</th>\n",
       "      <td>144</td>\n",
       "      <td>Junior Software Engineer</td>\n",
       "      <td>Python</td>\n",
       "      <td>1</td>\n",
       "      <td>1</td>\n",
       "      <td>750</td>\n",
       "      <td>250</td>\n",
       "      <td>Киев</td>\n",
       "      <td>до 10 человек</td>\n",
       "      <td>Аутсорсинговая</td>\n",
       "      <td>мужской</td>\n",
       "      <td>21</td>\n",
       "      <td>Незаконченное высшее</td>\n",
       "      <td>True</td>\n",
       "      <td>выше среднего</td>\n",
       "      <td>12/06/2017 13:19:10</td>\n",
       "      <td>Mozilla/5.0 (X11; Linux x86_64) AppleWebKit/53...</td>\n",
       "      <td>1.0</td>\n",
       "      <td>1.0</td>\n",
       "      <td>750</td>\n",
       "    </tr>\n",
       "    <tr>\n",
       "      <th>...</th>\n",
       "      <td>...</td>\n",
       "      <td>...</td>\n",
       "      <td>...</td>\n",
       "      <td>...</td>\n",
       "      <td>...</td>\n",
       "      <td>...</td>\n",
       "      <td>...</td>\n",
       "      <td>...</td>\n",
       "      <td>...</td>\n",
       "      <td>...</td>\n",
       "      <td>...</td>\n",
       "      <td>...</td>\n",
       "      <td>...</td>\n",
       "      <td>...</td>\n",
       "      <td>...</td>\n",
       "      <td>...</td>\n",
       "      <td>...</td>\n",
       "      <td>...</td>\n",
       "      <td>...</td>\n",
       "      <td>...</td>\n",
       "    </tr>\n",
       "    <tr>\n",
       "      <th>8546</th>\n",
       "      <td>8547</td>\n",
       "      <td>Software Engineer</td>\n",
       "      <td>Python</td>\n",
       "      <td>5</td>\n",
       "      <td>1</td>\n",
       "      <td>2000</td>\n",
       "      <td>800</td>\n",
       "      <td>Запорожье</td>\n",
       "      <td>до 50 человек</td>\n",
       "      <td>Аутсорсинговая</td>\n",
       "      <td>мужской</td>\n",
       "      <td>22</td>\n",
       "      <td>Незаконченное высшее</td>\n",
       "      <td>False</td>\n",
       "      <td>средний</td>\n",
       "      <td>10/07/2017 14:11:26</td>\n",
       "      <td>Mozilla/5.0 (Macintosh; Intel Mac OS X 10_12_5...</td>\n",
       "      <td>5.0</td>\n",
       "      <td>1.0</td>\n",
       "      <td>2000</td>\n",
       "    </tr>\n",
       "    <tr>\n",
       "      <th>8625</th>\n",
       "      <td>8626</td>\n",
       "      <td>Software Engineer</td>\n",
       "      <td>Python</td>\n",
       "      <td>4</td>\n",
       "      <td>1</td>\n",
       "      <td>1750</td>\n",
       "      <td>0</td>\n",
       "      <td>Киев</td>\n",
       "      <td>свыше 1000 человек</td>\n",
       "      <td>Аутсорсинговая</td>\n",
       "      <td>мужской</td>\n",
       "      <td>28</td>\n",
       "      <td>Среднее</td>\n",
       "      <td>False</td>\n",
       "      <td>средний</td>\n",
       "      <td>11/07/2017 16:15:40</td>\n",
       "      <td>Mozilla/5.0 (X11; Ubuntu; Linux x86_64; rv:54....</td>\n",
       "      <td>4.0</td>\n",
       "      <td>1.0</td>\n",
       "      <td>1750</td>\n",
       "    </tr>\n",
       "    <tr>\n",
       "      <th>8635</th>\n",
       "      <td>8636</td>\n",
       "      <td>Senior Software Engineer</td>\n",
       "      <td>Python</td>\n",
       "      <td>10 и более лет</td>\n",
       "      <td>меньше 3 месяцев</td>\n",
       "      <td>4000</td>\n",
       "      <td>1300</td>\n",
       "      <td>Удаленно</td>\n",
       "      <td>до 10 человек</td>\n",
       "      <td>Стартап</td>\n",
       "      <td>мужской</td>\n",
       "      <td>33</td>\n",
       "      <td>Высшее</td>\n",
       "      <td>False</td>\n",
       "      <td>выше среднего</td>\n",
       "      <td>11/07/2017 17:51:36</td>\n",
       "      <td>Mozilla/5.0 (X11; Linux x86_64) AppleWebKit/53...</td>\n",
       "      <td>10.0</td>\n",
       "      <td>0.0</td>\n",
       "      <td>4000</td>\n",
       "    </tr>\n",
       "    <tr>\n",
       "      <th>8673</th>\n",
       "      <td>8674</td>\n",
       "      <td>Junior Software Engineer</td>\n",
       "      <td>Python</td>\n",
       "      <td>0.5</td>\n",
       "      <td>0.5</td>\n",
       "      <td>350</td>\n",
       "      <td>50</td>\n",
       "      <td>Киев</td>\n",
       "      <td>до 50 человек</td>\n",
       "      <td>Аутсорсинговая</td>\n",
       "      <td>мужской</td>\n",
       "      <td>22</td>\n",
       "      <td>Высшее</td>\n",
       "      <td>False</td>\n",
       "      <td>средний</td>\n",
       "      <td>12/07/2017 09:37:16</td>\n",
       "      <td>Mozilla/5.0 (X11; Ubuntu; Linux x86_64; rv:54....</td>\n",
       "      <td>0.5</td>\n",
       "      <td>0.5</td>\n",
       "      <td>350</td>\n",
       "    </tr>\n",
       "    <tr>\n",
       "      <th>8695</th>\n",
       "      <td>8696</td>\n",
       "      <td>Software Engineer</td>\n",
       "      <td>Python</td>\n",
       "      <td>1</td>\n",
       "      <td>0.5</td>\n",
       "      <td>1500</td>\n",
       "      <td>1000</td>\n",
       "      <td>Киев</td>\n",
       "      <td>до 10 человек</td>\n",
       "      <td>Стартап</td>\n",
       "      <td>мужской</td>\n",
       "      <td>29</td>\n",
       "      <td>Высшее</td>\n",
       "      <td>False</td>\n",
       "      <td>средний</td>\n",
       "      <td>12/07/2017 14:39:21</td>\n",
       "      <td>Mozilla/5.0 (X11; Linux x86_64) AppleWebKit/53...</td>\n",
       "      <td>1.0</td>\n",
       "      <td>0.5</td>\n",
       "      <td>1500</td>\n",
       "    </tr>\n",
       "  </tbody>\n",
       "</table>\n",
       "<p>207 rows × 20 columns</p>\n",
       "</div>"
      ],
      "text/plain": [
       "         N                 Должность Язык.программирования Общий.опыт.работы  \\\n",
       "12      13         Software Engineer                Python                 1   \n",
       "68      69         Software Engineer                Python               1.5   \n",
       "87      88  Junior Software Engineer                Python               0.5   \n",
       "114    115  Junior Software Engineer                Python               1.5   \n",
       "143    144  Junior Software Engineer                Python                 1   \n",
       "...    ...                       ...                   ...               ...   \n",
       "8546  8547         Software Engineer                Python                 5   \n",
       "8625  8626         Software Engineer                Python                 4   \n",
       "8635  8636  Senior Software Engineer                Python    10 и более лет   \n",
       "8673  8674  Junior Software Engineer                Python               0.5   \n",
       "8695  8696         Software Engineer                Python                 1   \n",
       "\n",
       "     Опыт.работы.на.текущем.месте  Зарплата.в.месяц  \\\n",
       "12               меньше 3 месяцев               800   \n",
       "68                            0.5               900   \n",
       "87                            0.5               600   \n",
       "114                           0.5               685   \n",
       "143                             1               750   \n",
       "...                           ...               ...   \n",
       "8546                            1              2000   \n",
       "8625                            1              1750   \n",
       "8635             меньше 3 месяцев              4000   \n",
       "8673                          0.5               350   \n",
       "8695                          0.5              1500   \n",
       "\n",
       "      Изменение.зарплаты.за.12.месяцев      Город     Размер.компании  \\\n",
       "12                                 200       Киев       до 50 человек   \n",
       "68                                 900       Киев       до 10 человек   \n",
       "87                                   0       Киев       до 10 человек   \n",
       "114                                250       Киев     до 1000 человек   \n",
       "143                                250       Киев       до 10 человек   \n",
       "...                                ...        ...                 ...   \n",
       "8546                               800  Запорожье       до 50 человек   \n",
       "8625                                 0       Киев  свыше 1000 человек   \n",
       "8635                              1300   Удаленно       до 10 человек   \n",
       "8673                                50       Киев       до 50 человек   \n",
       "8695                              1000       Киев       до 10 человек   \n",
       "\n",
       "        Тип.компании      Пол  Возраст           Образование  Еще.студент  \\\n",
       "12    Аутсорсинговая  мужской       26                Высшее        False   \n",
       "68           Стартап  мужской       21  Незаконченное высшее         True   \n",
       "87    Аутсорсинговая  мужской       19  Незаконченное высшее         True   \n",
       "114   Аутсорсинговая  мужской       21  Незаконченное высшее        False   \n",
       "143   Аутсорсинговая  мужской       21  Незаконченное высшее         True   \n",
       "...              ...      ...      ...                   ...          ...   \n",
       "8546  Аутсорсинговая  мужской       22  Незаконченное высшее        False   \n",
       "8625  Аутсорсинговая  мужской       28               Среднее        False   \n",
       "8635         Стартап  мужской       33                Высшее        False   \n",
       "8673  Аутсорсинговая  мужской       22                Высшее        False   \n",
       "8695         Стартап  мужской       29                Высшее        False   \n",
       "\n",
       "     Уровень.английского      Дата.заполнения  \\\n",
       "12         ниже среднего  12/06/2017 13:05:54   \n",
       "68         выше среднего  12/06/2017 13:11:17   \n",
       "87         выше среднего  12/06/2017 13:12:25   \n",
       "114              средний  12/06/2017 13:14:52   \n",
       "143        выше среднего  12/06/2017 13:19:10   \n",
       "...                  ...                  ...   \n",
       "8546             средний  10/07/2017 14:11:26   \n",
       "8625             средний  11/07/2017 16:15:40   \n",
       "8635       выше среднего  11/07/2017 17:51:36   \n",
       "8673             средний  12/07/2017 09:37:16   \n",
       "8695             средний  12/07/2017 14:39:21   \n",
       "\n",
       "                                             User.Agent   exp  \\\n",
       "12    Mozilla/5.0 (Windows NT 6.1; Win64; x64) Apple...   1.0   \n",
       "68    Mozilla/5.0 (Windows NT 10.0; Win64; x64) Appl...   1.5   \n",
       "87    Mozilla/5.0 (X11; Linux x86_64) AppleWebKit/53...   0.5   \n",
       "114   Mozilla/5.0 (X11; Linux x86_64) AppleWebKit/53...   1.5   \n",
       "143   Mozilla/5.0 (X11; Linux x86_64) AppleWebKit/53...   1.0   \n",
       "...                                                 ...   ...   \n",
       "8546  Mozilla/5.0 (Macintosh; Intel Mac OS X 10_12_5...   5.0   \n",
       "8625  Mozilla/5.0 (X11; Ubuntu; Linux x86_64; rv:54....   4.0   \n",
       "8635  Mozilla/5.0 (X11; Linux x86_64) AppleWebKit/53...  10.0   \n",
       "8673  Mozilla/5.0 (X11; Ubuntu; Linux x86_64; rv:54....   0.5   \n",
       "8695  Mozilla/5.0 (X11; Linux x86_64) AppleWebKit/53...   1.0   \n",
       "\n",
       "      current_job_exp  salary  \n",
       "12                0.0     800  \n",
       "68                0.5     900  \n",
       "87                0.5     600  \n",
       "114               0.5     685  \n",
       "143               1.0     750  \n",
       "...               ...     ...  \n",
       "8546              1.0    2000  \n",
       "8625              1.0    1750  \n",
       "8635              0.0    4000  \n",
       "8673              0.5     350  \n",
       "8695              0.5    1500  \n",
       "\n",
       "[207 rows x 20 columns]"
      ]
     },
     "execution_count": 5,
     "metadata": {},
     "output_type": "execute_result"
    }
   ],
   "source": [
    "python_data = clear_df[clear_df[\"Язык.программирования\"]==\"Python\"]\n",
    "python_data"
   ]
  },
  {
   "cell_type": "code",
   "execution_count": 14,
   "id": "e6931344",
   "metadata": {
    "scrolled": true
   },
   "outputs": [
    {
     "data": {
      "text/plain": [
       "(207, 20)"
      ]
     },
     "execution_count": 14,
     "metadata": {},
     "output_type": "execute_result"
    }
   ],
   "source": [
    "python_data.shape"
   ]
  },
  {
   "cell_type": "code",
   "execution_count": 15,
   "id": "4074aa82",
   "metadata": {},
   "outputs": [],
   "source": [
    "group_position = python_data.groupby(\"Должность\")"
   ]
  },
  {
   "cell_type": "code",
   "execution_count": 112,
   "id": "57d117f7",
   "metadata": {
    "scrolled": true
   },
   "outputs": [
    {
     "data": {
      "text/plain": [
       "Должность\n",
       "Software Engineer           100\n",
       "Junior Software Engineer     63\n",
       "Senior Software Engineer     31\n",
       "Technical Lead               11\n",
       "System Architect              2\n",
       "Name: count, dtype: int64"
      ]
     },
     "execution_count": 112,
     "metadata": {},
     "output_type": "execute_result"
    }
   ],
   "source": [
    "group_val = python_data[\"Должность\"].value_counts()\n",
    "group_val"
   ]
  },
  {
   "cell_type": "code",
   "execution_count": 16,
   "id": "c280b715",
   "metadata": {
    "scrolled": false
   },
   "outputs": [
    {
     "data": {
      "text/html": [
       "<div>\n",
       "<style scoped>\n",
       "    .dataframe tbody tr th:only-of-type {\n",
       "        vertical-align: middle;\n",
       "    }\n",
       "\n",
       "    .dataframe tbody tr th {\n",
       "        vertical-align: top;\n",
       "    }\n",
       "\n",
       "    .dataframe thead tr th {\n",
       "        text-align: left;\n",
       "    }\n",
       "\n",
       "    .dataframe thead tr:last-of-type th {\n",
       "        text-align: right;\n",
       "    }\n",
       "</style>\n",
       "<table border=\"1\" class=\"dataframe\">\n",
       "  <thead>\n",
       "    <tr>\n",
       "      <th></th>\n",
       "      <th colspan=\"2\" halign=\"left\">Зарплата.в.месяц</th>\n",
       "    </tr>\n",
       "    <tr>\n",
       "      <th></th>\n",
       "      <th>max</th>\n",
       "      <th>min</th>\n",
       "    </tr>\n",
       "    <tr>\n",
       "      <th>Должность</th>\n",
       "      <th></th>\n",
       "      <th></th>\n",
       "    </tr>\n",
       "  </thead>\n",
       "  <tbody>\n",
       "    <tr>\n",
       "      <th>Junior Software Engineer</th>\n",
       "      <td>1250</td>\n",
       "      <td>100</td>\n",
       "    </tr>\n",
       "    <tr>\n",
       "      <th>Senior Software Engineer</th>\n",
       "      <td>9200</td>\n",
       "      <td>1300</td>\n",
       "    </tr>\n",
       "    <tr>\n",
       "      <th>Software Engineer</th>\n",
       "      <td>5400</td>\n",
       "      <td>500</td>\n",
       "    </tr>\n",
       "    <tr>\n",
       "      <th>System Architect</th>\n",
       "      <td>5000</td>\n",
       "      <td>3000</td>\n",
       "    </tr>\n",
       "    <tr>\n",
       "      <th>Technical Lead</th>\n",
       "      <td>6200</td>\n",
       "      <td>1425</td>\n",
       "    </tr>\n",
       "  </tbody>\n",
       "</table>\n",
       "</div>"
      ],
      "text/plain": [
       "                         Зарплата.в.месяц      \n",
       "                                      max   min\n",
       "Должность                                      \n",
       "Junior Software Engineer             1250   100\n",
       "Senior Software Engineer             9200  1300\n",
       "Software Engineer                    5400   500\n",
       "System Architect                     5000  3000\n",
       "Technical Lead                       6200  1425"
      ]
     },
     "execution_count": 16,
     "metadata": {},
     "output_type": "execute_result"
    }
   ],
   "source": [
    "position_python = group_position.agg({\"Зарплата.в.месяц\" : [\"max\", \"min\"]})\n",
    "position_python"
   ]
  },
  {
   "cell_type": "code",
   "execution_count": 113,
   "id": "a2eebcc2",
   "metadata": {
    "scrolled": true
   },
   "outputs": [
    {
     "data": {
      "text/html": [
       "<div>\n",
       "<style scoped>\n",
       "    .dataframe tbody tr th:only-of-type {\n",
       "        vertical-align: middle;\n",
       "    }\n",
       "\n",
       "    .dataframe tbody tr th {\n",
       "        vertical-align: top;\n",
       "    }\n",
       "\n",
       "    .dataframe thead tr th {\n",
       "        text-align: left;\n",
       "    }\n",
       "\n",
       "    .dataframe thead tr:last-of-type th {\n",
       "        text-align: right;\n",
       "    }\n",
       "</style>\n",
       "<table border=\"1\" class=\"dataframe\">\n",
       "  <thead>\n",
       "    <tr>\n",
       "      <th></th>\n",
       "      <th colspan=\"2\" halign=\"left\">Зарплата.в.месяц</th>\n",
       "      <th>avg</th>\n",
       "    </tr>\n",
       "    <tr>\n",
       "      <th></th>\n",
       "      <th>max</th>\n",
       "      <th>min</th>\n",
       "      <th></th>\n",
       "    </tr>\n",
       "    <tr>\n",
       "      <th>Должность</th>\n",
       "      <th></th>\n",
       "      <th></th>\n",
       "      <th></th>\n",
       "    </tr>\n",
       "  </thead>\n",
       "  <tbody>\n",
       "    <tr>\n",
       "      <th>Junior Software Engineer</th>\n",
       "      <td>1250</td>\n",
       "      <td>100</td>\n",
       "      <td>675.0</td>\n",
       "    </tr>\n",
       "    <tr>\n",
       "      <th>Software Engineer</th>\n",
       "      <td>5400</td>\n",
       "      <td>500</td>\n",
       "      <td>2950.0</td>\n",
       "    </tr>\n",
       "    <tr>\n",
       "      <th>Technical Lead</th>\n",
       "      <td>6200</td>\n",
       "      <td>1425</td>\n",
       "      <td>3812.5</td>\n",
       "    </tr>\n",
       "    <tr>\n",
       "      <th>System Architect</th>\n",
       "      <td>5000</td>\n",
       "      <td>3000</td>\n",
       "      <td>4000.0</td>\n",
       "    </tr>\n",
       "    <tr>\n",
       "      <th>Senior Software Engineer</th>\n",
       "      <td>9200</td>\n",
       "      <td>1300</td>\n",
       "      <td>5250.0</td>\n",
       "    </tr>\n",
       "  </tbody>\n",
       "</table>\n",
       "</div>"
      ],
      "text/plain": [
       "                         Зарплата.в.месяц           avg\n",
       "                                      max   min        \n",
       "Должность                                              \n",
       "Junior Software Engineer             1250   100   675.0\n",
       "Software Engineer                    5400   500  2950.0\n",
       "Technical Lead                       6200  1425  3812.5\n",
       "System Architect                     5000  3000  4000.0\n",
       "Senior Software Engineer             9200  1300  5250.0"
      ]
     },
     "execution_count": 113,
     "metadata": {},
     "output_type": "execute_result"
    }
   ],
   "source": [
    "def fill_avg_salary(salary):\n",
    "    return salary.mean()\n",
    "position_python[\"avg\"] = position_python.apply(fill_avg_salary, axis=1)\n",
    "position_python"
   ]
  },
  {
   "cell_type": "code",
   "execution_count": 114,
   "id": "d16506f8",
   "metadata": {
    "scrolled": true
   },
   "outputs": [
    {
     "data": {
      "text/plain": [
       "count       5.000000\n",
       "mean     3337.500000\n",
       "std      1700.091909\n",
       "min       675.000000\n",
       "25%      2950.000000\n",
       "50%      3812.500000\n",
       "75%      4000.000000\n",
       "max      5250.000000\n",
       "Name: avg, dtype: float64"
      ]
     },
     "execution_count": 114,
     "metadata": {},
     "output_type": "execute_result"
    }
   ],
   "source": [
    "position_python['avg'].describe()"
   ]
  },
  {
   "cell_type": "code",
   "execution_count": 72,
   "id": "a8be89ab",
   "metadata": {},
   "outputs": [],
   "source": [
    "position_python.to_csv(\"result.csv\", index=False)"
   ]
  },
  {
   "cell_type": "code",
   "execution_count": 115,
   "id": "d76c38b2",
   "metadata": {},
   "outputs": [],
   "source": [
    "position_python = position_python.sort_values(\"avg\", ascending=True)"
   ]
  },
  {
   "cell_type": "code",
   "execution_count": 116,
   "id": "0d1446e7",
   "metadata": {
    "scrolled": true
   },
   "outputs": [
    {
     "data": {
      "image/png": "[encoded data removed]",
      "text/plain": [
       "<Figure size 800x300 with 1 Axes>"
      ]
     },
     "metadata": {},
     "output_type": "display_data"
    }
   ],
   "source": [
    "plt.figure(figsize=(8, 3))\n",
    "plt.barh(position_python.index, position_python[\"avg\"])\n",
    "plt.xlabel(\"Position\")\n",
    "plt.ylabel(\"Salary\")\n",
    "plt.title(\"Average Python Developer Salary\")\n",
    "plt.show()"
   ]
  },
  {
   "cell_type": "code",
   "execution_count": 121,
   "id": "13b22b87",
   "metadata": {
    "scrolled": true
   },
   "outputs": [
    {
     "data": {
      "text/plain": [
       "<BarContainer object of 22 artists>"
      ]
     },
     "execution_count": 121,
     "metadata": {},
     "output_type": "execute_result"
    },
    {
     "data": {
      "image/png": "[encoded data removed]",
      "text/plain": [
       "<Figure size 800x800 with 1 Axes>"
      ]
     },
     "metadata": {},
     "output_type": "display_data"
    }
   ],
   "source": [
    "plt.figure(figsize=(8, 8))\n",
    "tmp = clear_df.dropna().groupby(\"Язык.программирования\").agg(\"count\")[\"N\"].sort_values(ascending=True)\n",
    "plt.barh(tmp.index, tmp)"
   ]
  },
  {
   "cell_type": "code",
   "execution_count": 42,
   "id": "36d447d8",
   "metadata": {},
   "outputs": [
    {
     "data": {
      "text/plain": [
       "<seaborn.axisgrid.FacetGrid at 0x18f0b5dff10>"
      ]
     },
     "execution_count": 42,
     "metadata": {},
     "output_type": "execute_result"
    },
    {
     "data": {
      "image/png": "[encoded data removed]",
      "text/plain": [
       "<Figure size 500x500 with 1 Axes>"
      ]
     },
     "metadata": {},
     "output_type": "display_data"
    }
   ],
   "source": [
    "tmp2 = clear_df.dropna()[[\"Зарплата.в.месяц\", \"Язык.программирования\", \"exp\"]]\n",
    "sns.lmplot(y=\"Зарплата.в.месяц\", x=\"exp\", data=tmp2)"
   ]
  },
  {
   "cell_type": "code",
   "execution_count": null,
   "id": "99c3c46b",
   "metadata": {},
   "outputs": [],
   "source": []
  }
 ],
 "metadata": {
  "kernelspec": {
   "display_name": "Python 3 (ipykernel)",
   "language": "python",
   "name": "python3"
  },
  "language_info": {
   "codemirror_mode": {
    "name": "ipython",
    "version": 3
   },
   "file_extension": ".py",
   "mimetype": "text/x-python",
   "name": "python",
   "nbconvert_exporter": "python",
   "pygments_lexer": "ipython3",
   "version": "3.10.8"
  }
 },
 "nbformat": 4,
 "nbformat_minor": 5
}
